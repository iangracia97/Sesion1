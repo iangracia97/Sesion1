{
 "cells": [
  {
   "cell_type": "markdown",
   "metadata": {},
   "source": [
    "# Clase del miercoles 18\n",
    "#### Estructuras de control"
   ]
  },
  {
   "cell_type": "code",
   "execution_count": 6,
   "metadata": {},
   "outputs": [
    {
     "name": "stdout",
     "output_type": "stream",
     "text": [
      "Dime tu nombre:Pablo\n",
      "Encantado de conocerte\n"
     ]
    }
   ],
   "source": [
    "nombre=input(\"Dime tu nombre:\")\n",
    "if nombre==\"Luis\":\n",
    "    print(\"Hola\"+nombre)\n",
    "    print(\"¿Que tal estas?\")\n",
    "\n",
    "elif nombre==\"Juan\" or nombre==\"Luis\":\n",
    "    print(\"Los que se llaman \"+nombre+\" no me caen bien\")\n",
    "    print (\"Hasta luego\")\n",
    "    \n",
    "else:\n",
    "    print(\"Encantado de conocerte\")"
   ]
  },
  {
   "cell_type": "code",
   "execution_count": 12,
   "metadata": {},
   "outputs": [
    {
     "name": "stdout",
     "output_type": "stream",
     "text": [
      "Dime un numero:21\n",
      "Es impar\n"
     ]
    }
   ],
   "source": [
    "numero=input(\"Dime un numero:\")\n",
    "\n",
    "if numero.isdigit():\n",
    "    numero=eval(numero)\n",
    "    if numero%2==0:\n",
    "        print(\"Es par\")\n",
    "        \n",
    "    else:\n",
    "            print(\"Es impar\")\n",
    "\n",
    "else:\n",
    "    print(\"Eso no es un numero\")"
   ]
  },
  {
   "cell_type": "code",
   "execution_count": 2,
   "metadata": {},
   "outputs": [
    {
     "name": "stdout",
     "output_type": "stream",
     "text": [
      "1.1\n",
      "2.1\n",
      "3.1\n",
      "4.1\n",
      "5.1\n",
      "6.1\n",
      "7.1\n",
      "8.1\n",
      "9.1\n"
     ]
    }
   ],
   "source": [
    "a=1.1\n",
    "while a<=10:\n",
    "    print(a)\n",
    "    a=a+1"
   ]
  },
  {
   "cell_type": "code",
   "execution_count": 5,
   "metadata": {},
   "outputs": [
    {
     "name": "stdout",
     "output_type": "stream",
     "text": [
      "Dime el dividendo:47\n",
      "Dime el divisor:8\n",
      "cociente:  5\n",
      "resto:  7\n"
     ]
    }
   ],
   "source": [
    "dividendo=eval(input(\"Dime el dividendo:\"))\n",
    "divisor=eval(input(\"Dime el divisor:\"))\n",
    "cociente=0\n",
    "\n",
    "while dividendo>divisor:\n",
    "    cociente=cociente+1\n",
    "    dividendo=dividendo-divisor\n",
    "    \n",
    "print(\"cociente: \",cociente)\n",
    "print(\"resto: \",dividendo)"
   ]
  },
  {
   "cell_type": "code",
   "execution_count": 13,
   "metadata": {},
   "outputs": [
    {
     "name": "stdout",
     "output_type": "stream",
     "text": [
      "Dime la potencia (2^x):10\n",
      "2 4 8 16 32 64 128 256 512 1024 "
     ]
    }
   ],
   "source": [
    "potencia=eval(input(\"Dime la potencia (2^x):\"))\n",
    "pot=1\n",
    "\n",
    "while potencia>0:\n",
    "    pot=pot*2\n",
    "    potencia=potencia-1\n",
    "    print(pot,end=' ')"
   ]
  },
  {
   "cell_type": "code",
   "execution_count": 17,
   "metadata": {},
   "outputs": [
    {
     "name": "stdout",
     "output_type": "stream",
     "text": [
      "Dime un numero:3\n",
      "1\n",
      "2\n"
     ]
    }
   ],
   "source": [
    "limite=eval(input(\"Dime un numero:\"))\n",
    "candidato_a_primo=1\n",
    "\n",
    "#genero los candidatos a numero primo\n",
    "while candidato_a_primo<limite:\n",
    "    divisor=2\n",
    "    #compruebo si es candidato a primo\n",
    "    while (divisor<candidato_a_primo) and (candidato_a_primo%divisor!=0):\n",
    "        divisor=divisor+1\n",
    "        \n",
    "    if divisor>=candidato_a_primo:\n",
    "        print(candidato_a_primo)\n",
    "    \n",
    "    candidato_a_primo=candidato_a_primo+1\n",
    "    "
   ]
  },
  {
   "cell_type": "markdown",
   "metadata": {},
   "source": [
    "# Estructura de datos"
   ]
  },
  {
   "cell_type": "code",
   "execution_count": 3,
   "metadata": {},
   "outputs": [
    {
     "name": "stdout",
     "output_type": "stream",
     "text": [
      "['enero', 'febrero', 'marzo', 'abril', 'mayo', 'junio', 'julio', 'agosto', 'septiembre', 'octubre', 'noviembre', 'diciembre']\n"
     ]
    }
   ],
   "source": [
    "meses=[\"enero\",\"febrero\",\"marzo\",\"abril\",\"mayo\",\"junio\",\n",
    "       \"julio\",\"agosto\",\"septiembre\",\"octubre\",\"noviembre\",\"diciembre\"]\n",
    "\n",
    "print(meses)"
   ]
  },
  {
   "cell_type": "code",
   "execution_count": 8,
   "metadata": {},
   "outputs": [],
   "source": [
    "meses.remove(\"febrero\")"
   ]
  },
  {
   "cell_type": "code",
   "execution_count": 9,
   "metadata": {},
   "outputs": [
    {
     "name": "stdout",
     "output_type": "stream",
     "text": [
      "['enero', 'marzo', 'abril', 'mayo', 'junio', 'julio', 'agosto', 'septiembre', 'octubre', 'noviembre', 'diciembre']\n"
     ]
    }
   ],
   "source": [
    "print(meses)"
   ]
  },
  {
   "cell_type": "code",
   "execution_count": 18,
   "metadata": {},
   "outputs": [
    {
     "name": "stdout",
     "output_type": "stream",
     "text": [
      "enero\n",
      "marzo\n",
      "abril\n",
      "mayo\n",
      "junio\n",
      "julio\n",
      "agosto\n",
      "septiembre\n",
      "octubre\n",
      "noviembre\n",
      "diciembre\n",
      "marzo\n",
      "marzo\n",
      "marzo\n",
      "marzo\n",
      "enero\n",
      "marzo\n",
      "abril\n",
      "mayo\n",
      "junio\n",
      "julio\n",
      "agosto\n",
      "septiembre\n",
      "octubre\n",
      "noviembre\n",
      "diciembre\n",
      "marzo\n",
      "marzo\n",
      "marzo\n",
      "marzo\n",
      "Marzo aparece 6 veces\n"
     ]
    }
   ],
   "source": [
    "pos=0\n",
    "while pos<len(meses):\n",
    "    print(meses[pos])\n",
    "    pos=pos+1\n",
    "    \n",
    "for mes in meses:\n",
    "    print(mes)\n",
    "    \n",
    "meses.append(\"marzo\")\n",
    "meses.index(\"marzo\")\n",
    "\n",
    "contador=0\n",
    "for mes in meses:\n",
    "    if mes==\"marzo\":\n",
    "        contador+=1\n",
    "        \n",
    "print(\"Marzo aparece %i veces\" % (contador))\n",
    "        "
   ]
  },
  {
   "cell_type": "code",
   "execution_count": 19,
   "metadata": {},
   "outputs": [
    {
     "name": "stdout",
     "output_type": "stream",
     "text": [
      "['enero', 'febrero', 'marzo', 'abril', 'mayo', 'junio', 'julio', 'agosto', 'septiembre', 'octubre', 'noviembre', 'diciembre', 'marzo', 'marzo', 'marzo', 'marzo', 'marzo']\n"
     ]
    }
   ],
   "source": [
    "meses.insert(1,\"febrero\")\n",
    "print(meses)\n",
    "del meses [12]\n",
    "del meses [13]"
   ]
  },
  {
   "cell_type": "code",
   "execution_count": 20,
   "metadata": {},
   "outputs": [],
   "source": [
    "if \"febrero\" in meses:\n",
    "    meses.remove(\"febrero\")"
   ]
  },
  {
   "cell_type": "code",
   "execution_count": 21,
   "metadata": {},
   "outputs": [
    {
     "name": "stdout",
     "output_type": "stream",
     "text": [
      "['enero', 'marzo', 'abril', 'mayo', 'junio', 'julio', 'agosto', 'septiembre', 'octubre', 'noviembre', 'diciembre', 'marzo', 'marzo', 'marzo']\n"
     ]
    }
   ],
   "source": [
    "print(meses)"
   ]
  },
  {
   "cell_type": "code",
   "execution_count": 24,
   "metadata": {},
   "outputs": [
    {
     "name": "stdout",
     "output_type": "stream",
     "text": [
      "[1, 6]\n"
     ]
    }
   ],
   "source": [
    "lista_numeros=[1,2,3,4,5,6,7,8,9,10]\n",
    "nueva_lista=lista_numeros[0:20:5]\n",
    "print(nueva_lista)"
   ]
  },
  {
   "cell_type": "code",
   "execution_count": 25,
   "metadata": {},
   "outputs": [
    {
     "name": "stdout",
     "output_type": "stream",
     "text": [
      "[1, 2, 3, 4, 5, 6, 7, 8, 9, 10, 11, 12, 13, 14, 15, 16, 17, 18, 19, 20]\n"
     ]
    }
   ],
   "source": [
    "otra_lista=[11,12,13,14,15,16,17,18,19,20]\n",
    "lista_larga=lista_numeros+otra_lista\n",
    "\n",
    "print(lista_larga)\n"
   ]
  },
  {
   "cell_type": "code",
   "execution_count": 26,
   "metadata": {},
   "outputs": [
    {
     "name": "stdout",
     "output_type": "stream",
     "text": [
      "[1, 2, 3, 4, 5, 6, 7, 8, 9, 10, 1, 2, 3, 4, 5, 6, 7, 8, 9, 10, 1, 2, 3, 4, 5, 6, 7, 8, 9, 10]\n"
     ]
    }
   ],
   "source": [
    "print(lista_numeros*3)"
   ]
  },
  {
   "cell_type": "code",
   "execution_count": 27,
   "metadata": {},
   "outputs": [
    {
     "name": "stdout",
     "output_type": "stream",
     "text": [
      "[3]\n",
      "[3, 6]\n",
      "[3, 6, 9]\n",
      "[3, 6, 9, 12]\n",
      "[3, 6, 9, 12, 15]\n",
      "[3, 6, 9, 12, 15, 18]\n",
      "[3, 6, 9, 12, 15, 18, 21]\n",
      "[3, 6, 9, 12, 15, 18, 21, 24]\n",
      "[3, 6, 9, 12, 15, 18, 21, 24, 27]\n",
      "[3, 6, 9, 12, 15, 18, 21, 24, 27, 30]\n"
     ]
    }
   ],
   "source": [
    "lista_por_tres=[]\n",
    "for num in lista_numeros:\n",
    "    lista_por_tres.append(num*3)\n",
    "\n",
    "    print(lista_por_tres)"
   ]
  },
  {
   "cell_type": "code",
   "execution_count": null,
   "metadata": {},
   "outputs": [],
   "source": []
  }
 ],
 "metadata": {
  "kernelspec": {
   "display_name": "Python 3",
   "language": "python",
   "name": "python3"
  }
 },
 "nbformat": 4,
 "nbformat_minor": 4
}
