{
 "cells": [
  {
   "cell_type": "markdown",
   "metadata": {},
   "source": [
    "**Nombre:** Ian\n",
    "\n",
    "**Apellidos:** Gracia Domínguez\n",
    "\n",
    "**DNI/NIE:** 26277375J"
   ]
  },
  {
   "cell_type": "markdown",
   "metadata": {},
   "source": [
    "_**Nota:** para hacer todos estos ejercicios puedes consultar los apuntes de la asignatura y todas las páginas de ayuda sugeridas en ellos_"
   ]
  },
  {
   "cell_type": "markdown",
   "metadata": {},
   "source": [
    "**1. Escribe un programa que pida el alto y el ancho (en metros) de una parcela rectangular y calcule su perímetro y su área. Si esta última es mayor de una hectárea, deberá expresarse la medida en esta unidad en lugar de en $m^2$**"
   ]
  },
  {
   "cell_type": "code",
   "execution_count": 2,
   "metadata": {},
   "outputs": [
    {
     "name": "stdout",
     "output_type": "stream",
     "text": [
      "Dime el alto de la parcela: 495\n",
      "Dime el ancho de la parcela: 395\n",
      "El área de esta parcela es de 19.5525 hectáreas\n",
      "El perímetro de esta parcela es de 1780 metros\n"
     ]
    }
   ],
   "source": [
    "#Indicamos las variables del ancho y del alto:\n",
    "\n",
    "alto=eval(input(\"Dime el alto de la parcela: \"))\n",
    "ancho=eval(input(\"Dime el ancho de la parcela: \"))\n",
    "\n",
    "#Indicamos el area y sus parametros:\n",
    "\n",
    "area=alto*ancho\n",
    "\n",
    "if area <10000:  \n",
    "    print(\"El área de esta parcela es de\",area,\"metros cuadrados\")\n",
    "\n",
    "if area >=10000:\n",
    "    print (\"El área de esta parcela es de\",area/10000,\"hectáreas\")\n",
    "\n",
    "perimetro=alto+alto+ancho+ancho\n",
    "\n",
    "#Indicamos el perimetro obtenida:\n",
    "\n",
    "print(\"El perímetro de esta parcela es de\",perimetro,\"metros\")\n",
    "\n"
   ]
  },
  {
   "cell_type": "markdown",
   "metadata": {},
   "source": [
    "**2. Escribe un programa que lea los coeficientes y calule la solución de una ecuación de segundo grado de la forma $ax^2+bx+c=0$**"
   ]
  },
  {
   "cell_type": "code",
   "execution_count": 30,
   "metadata": {},
   "outputs": [
    {
     "name": "stdout",
     "output_type": "stream",
     "text": [
      "Valor de la variable cuadrática\n",
      ": 1\n",
      "Valor de la variable lineal\n",
      ": -5\n",
      "Valor del término independiente\n",
      ": -84\n",
      "El valor de x1 es:  12.0\n",
      "El valor de x2 es:  -7.0\n"
     ]
    }
   ],
   "source": [
    "# Importamos la función de calcular la raíz cuadrada:\n",
    "\n",
    "from math import sqrt\n",
    "\n",
    "#Insertamos el valor de los coeficientes y de las dos incógnitas como 0:\n",
    "\n",
    "a = int(input(\"Valor de la variable cuadrática\\n: \"))\n",
    "b = int(input(\"Valor de la variable lineal\\n: \"))\n",
    "c = int(input(\"Valor del término independiente\\n: \"))\n",
    "x1= 0\n",
    "x2= 0\n",
    "\n",
    "#Establecemos la función de la ecuacion de segundo grado despejando las x:\n",
    "\n",
    "if ((b**2)-4*a*c) < 0:\n",
    "    print(\"No se puede resolver la ecuación\")\n",
    "\n",
    "else:\n",
    "  x1 = (-b+sqrt(b**2-(4*a*c)))/(2*a)\n",
    "  x2 = (-b-sqrt(b**2-(4*a*c)))/(2*a)\n",
    "    \n",
    "print(\"El valor de x1 es: \",x1)\n",
    "print(\"El valor de x2 es: \",x2)"
   ]
  },
  {
   "cell_type": "markdown",
   "metadata": {},
   "source": [
    "**3. Escribe un programa que lea una cadena de texto y cuente cuántos caracteres no son letras**"
   ]
  },
  {
   "cell_type": "code",
   "execution_count": 32,
   "metadata": {},
   "outputs": [
    {
     "name": "stdout",
     "output_type": "stream",
     "text": [
      "Dime algo: 1 2 3 4 melon pera\n",
      "En lo que me has dicho hay esta cantidad de numeros: 4\n",
      "En lo que me has dicho hay esta cantidad de letras: 9\n"
     ]
    }
   ],
   "source": [
    "#Definimos una funcion para contar numeros y letras: \n",
    "\n",
    "def contarnumerosyletras(serie):\n",
    "    numero = 0\n",
    "    letra= 0\n",
    "\n",
    "    for numeros in serie:\n",
    "        if numeros.isdigit():\n",
    "            numero+=1\n",
    "        elif numeros.isalpha():\n",
    "            letra+=1\n",
    "        else:\n",
    "            pass\n",
    "    \n",
    "    return numero,letra\n",
    "\n",
    "#Definimos la cadena de texto para que cuente los números y las laetras:\n",
    "    \n",
    "frase=input(\"Dime algo: \")\n",
    "\n",
    "resultado= contarnumerosyletras(frase)\n",
    "\n",
    "print(\"En lo que me has dicho hay esta cantidad de numeros: %i\" % (resultado[0]) )\n",
    "print(\"En lo que me has dicho hay esta cantidad de letras: %i\" % (resultado[1]))"
   ]
  },
  {
   "cell_type": "markdown",
   "metadata": {},
   "source": [
    "**4. Escribe un programa que lea una cadena de texto y le quite todos los caracteres que no sean letras**"
   ]
  },
  {
   "cell_type": "code",
   "execution_count": 15,
   "metadata": {},
   "outputs": [
    {
     "name": "stdout",
     "output_type": "stream",
     "text": [
      "Dime una cadena de texto: habia quince 15\n",
      "El texto que me has dicho sólo con letras es  habia quince \n"
     ]
    }
   ],
   "source": [
    "#Definimos un texto de entrada:    \n",
    "\n",
    "texto=input(\"Dime una cadena de texto: \")\n",
    "\n",
    "#Limpiamos los carácteres que sean numeros:\n",
    "\n",
    "textosololetras= \"\".join([i for i in texto if not i.isdigit()])\n",
    "\n",
    "\n",
    "print(\"El texto que me has dicho sólo con letras es: \",textosololetras)\n"
   ]
  },
  {
   "cell_type": "markdown",
   "metadata": {},
   "source": [
    "**5. Escribe un programa que lea una cadena de texto y diga si es un palíndromo**"
   ]
  },
  {
   "cell_type": "code",
   "execution_count": 25,
   "metadata": {},
   "outputs": [
    {
     "name": "stdout",
     "output_type": "stream",
     "text": [
      "Dime una frase y te digo si es o no palíndromo: oso\n",
      "El texto:  oso ,es palíndromo\n"
     ]
    }
   ],
   "source": [
    "#Introducimos un texto:\n",
    "\n",
    "texto=input(\"Dime una frase y te digo si es o no palíndromo: \")\n",
    "\n",
    "#Establecemos la función para saber si es palíndromo o no:\n",
    "\n",
    "aux, igual = 0, 0\n",
    "for ind in reversed(range(0,len(texto))):\n",
    "    if texto[ind].lower()==texto[aux].lower():\n",
    "        igual +=1\n",
    "    aux +=1\n",
    "    \n",
    "#Establecemos dos parámetros de respuesta:\n",
    "\n",
    "if len(texto)==igual:\n",
    "        print(\"El texto: \",texto,\",es palíndromo\")\n",
    "        \n",
    "else:\n",
    "        print(\"El texto: \",texto,\" ,no es palíndromo\")"
   ]
  },
  {
   "cell_type": "markdown",
   "metadata": {},
   "source": [
    "**6. Escribe un programa que lea una frase, la separe en palabras e imprima las palabras por orden de longitud. Las palabras de la misma longitud deberán imprimirse por orden lexicográfico**"
   ]
  },
  {
   "cell_type": "code",
   "execution_count": 69,
   "metadata": {},
   "outputs": [
    {
     "name": "stdout",
     "output_type": "stream",
     "text": [
      "Dime una frase: sol eva ana maruchi\n",
      "['sol', 'eva', 'ana', 'maruchi']\n",
      "maruchi\n",
      "ana\n",
      "eva\n",
      "sol\n"
     ]
    }
   ],
   "source": [
    "#Decimos una frase:\n",
    "\n",
    "texto=input(\"Dime una frase: \")\n",
    "\n",
    "#Dividimos en palabras:\n",
    "\n",
    "textoenpalabras=texto.split()\n",
    "\n",
    "print(textoenpalabras)\n",
    "\n",
    "#Ordenamos las palabras por longitud:\n",
    "\n",
    "for textoordenado in reversed(sorted(textoenpalabras, key=len)):\n",
    "    print(textoordenado)\n",
    "\n",
    "#Ordenamos las palabras de igual longitud lexicograficamente:\n",
    "\n",
    "    if len(textoordenado)==len(textoordenado):\n",
    "        sorted(textoordenado, key=str.lower)\n",
    "\n",
    "\n",
    "\n",
    "\n",
    "\n",
    "\n",
    "                  \n",
    "                  \n",
    "        "
   ]
  },
  {
   "cell_type": "markdown",
   "metadata": {},
   "source": [
    "**7. Las matrículas actuales de los coches en España están compuestas por cuatro dígitos y tres consonantes. Escribe un programa que lea una matrícula, una letra y un número y nos diga si**\n",
    "  * **La matrícula contiene ese dígito**\n",
    "  * **Las letras de la matrícula comienzan con la letra dada**\n",
    "  * **Ambas cosas**\n",
    "  * **Ninguna de las dos cosas**"
   ]
  },
  {
   "cell_type": "code",
   "execution_count": 4,
   "metadata": {},
   "outputs": [
    {
     "name": "stdout",
     "output_type": "stream",
     "text": [
      "Escribe el primer dígito de la matrícula: 1\n",
      "Escribe el segundo dígito de la matrícula: 2\n",
      "Escribe el tecrer dígito de la matrícula: 3\n",
      "Escribe el cuarto dígito de la matrícula: 4\n",
      "Escribe la primera consonante de la matrícula: r\n",
      "Escribe la segunda consonante de la amtrícula: t\n",
      "Escribe la tercera consonante de la matrícula: d\n",
      "Dime un digito: 3\n",
      "Dime una letra: r\n",
      "La matrícula contiene ese dígito\n",
      "Las letras de la matrícula comienzan con esa letra\n",
      "Se dan ambas situaciones\n"
     ]
    }
   ],
   "source": [
    "#Introducimos los valores:\n",
    "\n",
    "d=eval(input(\"Escribe el primer dígito de la matrícula: \"))\n",
    "dd=eval(input(\"Escribe el segundo dígito de la matrícula: \"))\n",
    "ddd=eval(input(\"Escribe el tecrer dígito de la matrícula: \"))\n",
    "dddd=eval(input(\"Escribe el cuarto dígito de la matrícula: \"))\n",
    "\n",
    "c=input(\"Escribe la primera consonante de la matrícula: \")\n",
    "cc=input(\"Escribe la segunda consonante de la amtrícula: \")\n",
    "ccc=input(\"Escribe la tercera consonante de la matrícula: \")\n",
    "\n",
    "digito=eval(input(\"Dime un digito: \"))\n",
    "\n",
    "letra=input(\"Dime una letra: \")\n",
    "\n",
    "lista=[d,dd,ddd,dddd]\n",
    "\n",
    "#Calculamos si está o no estan las condiciones:\n",
    "\n",
    "if digito in lista:\n",
    "\n",
    "    print(\"La matrícula contiene ese dígito\")\n",
    "    \n",
    "else:\n",
    "    print(\"La matrícula no contiene ese dígito\")\n",
    "    \n",
    "if letra == c:\n",
    "    \n",
    "    print(\"Las letras de la matrícula comienzan con esa letra\")\n",
    "    \n",
    "else:\n",
    "    print(\"Las letras de la matrícula no comienzan con esa letra\")\n",
    "    \n",
    "if digito in lista and letra == c:\n",
    "    print(\"Se dan ambas situaciones\")\n",
    "    \n",
    "if digito not in lista and letra != c:\n",
    "    print(\"No se da ninguna situación\")\n",
    "    \n"
   ]
  },
  {
   "cell_type": "markdown",
   "metadata": {},
   "source": [
    "##### **8. Dada una lista de matrículas, un dígito y una letra, escribe un programa que nos diga cuántas matrículas cumplen cada una de las condiciones anteriores**"
   ]
  },
  {
   "cell_type": "code",
   "execution_count": 5,
   "metadata": {},
   "outputs": [
    {
     "name": "stdout",
     "output_type": "stream",
     "text": [
      "Sólo contiene dígito: 4\n",
      "Sólo comienza con letra: F\n",
      "Sólo contiene dígito: 4\n",
      "Ni contiene el dígito: 4 no comienza con: F\n",
      "Sólo contiene dígito: 4\n"
     ]
    }
   ],
   "source": [
    "def anamat (mat2ana, digito, letra):\n",
    "    try:\n",
    "        if digito.isdigit() and letra.isalpha():\n",
    "            if mat2ana.count(digito) > 0 and mat2ana[4].upper() == letra.upper():\n",
    "                return \"Contiene dígito: \" + digito + \" y comienza con letra: \" + letra\n",
    "            if mat2ana.count(digito) > 0:\n",
    "                return \"Sólo contiene dígito: \" + digito\n",
    "            if mat2ana[4].upper() == letra.upper():\n",
    "                return \"Sólo comienza con letra: \" + letra\n",
    "            return \"Ni contiene el dígito: \" + digito + \" no comienza con: \" + letra\n",
    "        return \"Error en entrada\"\n",
    "    except TypeError:\n",
    "        return \"Error no esperado\"\n",
    "    \n",
    "lm = [\"4565ADF\",\"6665FFF\",\"1453JKM\",\"0903HTJ\",\"7345HYW\"]\n",
    "d='4'\n",
    "l='F'\n",
    "\n",
    "for m in lm:\n",
    "    print(anamat(m,d,l))\n",
    "\n"
   ]
  },
  {
   "cell_type": "markdown",
   "metadata": {},
   "source": [
    "**9. En https://www.dieselogasolina.com/tabla-matriculas-por-anos.html puedes encontrar una tabla con las últimas letras asignadas cada mes desde el año 2000 para matricular coches. Escribe un programa que reciba la matrícula completa de un coche y devuelva el mes y el año en el que fue matriculado**"
   ]
  },
  {
   "cell_type": "code",
   "execution_count": 8,
   "metadata": {},
   "outputs": [
    {
     "name": "stdout",
     "output_type": "stream",
     "text": [
      "Introduce una matrícula: 5653 LGP\n",
      "Junio2020\n"
     ]
    }
   ],
   "source": [
    "#Introducimos las variables:\n",
    "\n",
    "listamatriculas=[\"LFH\",\"LFY\",\"LGG\",\"LGP\",\"LHG\"]\n",
    "mesyaño=[\"Enero2020\",\"Febrero2020\",\"Marzo2020\",\"Junio2020\"]\n",
    "\n",
    "#Unimos las listas:\n",
    "\n",
    "union=dict(zip(listamatriculas,mesyaño))\n",
    "\n",
    "#Introducimos la matrícula:\n",
    "\n",
    "intro=input(\"Introduce una matrícula: \") #Formato NNNN LLL\n",
    "\n",
    "numeros,letras =intro.split(\" \")\n",
    "\n",
    "#Establecemos la condición:\n",
    "\n",
    "if letras in union:\n",
    "    print(union[letras])\n",
    "    \n",
    "else:\n",
    "    print(\"La matrícula no está en la lista\")"
   ]
  },
  {
   "cell_type": "markdown",
   "metadata": {},
   "source": [
    "**10. El índice $r$ de contagio del coronavirus mide el número medio de contagios que causa cada persona infectada. Si $r=3$ y el primer día de la epidemia hay una persona contagiada, esa persona contagiará a 3, por lo que el segundo día habrá 4 personas contagiadas. Esas tres nuevas personas contagiadas contagiarán a otras 3 cada una, por lo que habrá 9 nuevos contagiados, haciendo un total de 13 personas contagiadas. Escribe un programa que pida el número inicial de contagiados $i$, el valor del índice medio de contagios $r$ y un número $n$ de días y escriba por pantalla la evolución en el número de contagiados durante los primeros $n$ días de pandemia. Para cada día debe imprimir el número de nuevos contagios y el número de contagios acumulados**"
   ]
  },
  {
   "cell_type": "code",
   "execution_count": null,
   "metadata": {},
   "outputs": [],
   "source": []
  },
  {
   "cell_type": "markdown",
   "metadata": {},
   "source": [
    "**11. Puedes obtener una lista de códigos postales de (https://www.codigospostales.com/descarga.html). En el fichero .zip que te puedes descargar de ahí puedes obtener los códigos postales de todas las poblaciones de España, pero están estructurados de una forma un poco particular, aunque sencilla de procesar automáticamente. El objetivo último del ejercicio es obtener un fichero con un listado de todos los códigos postales de España asociados a su provincia y población, ordenados por código postal. Cada línea deberá tener el formato**  \n",
    "    *CódigoPostal Provincia Poblaciones*  \n",
    "Indicaciones para resolver el ejercicio:\n",
    "* Abre el fichero codciu.txt. En cada línea de ese fichero puedes encontrar un código compuesto por tres números o dos números y una letra, seguidos del nombre de una población o provincia.\n",
    "* Para cada línea, debes separar los tres primeros caracteres de los demás, y después\n",
    "  + Si de esos tres primeros caracteres hay dos números y una x (NNx), quiere decir que el fichero asociado contiene información de poblaciones pequeñas de la provincia. Procesa los ficheros de nombre NNxcodpos.txt y extrae los códigos postales y las poblaciones asociadas a cada código postal (puede haber varias)\n",
    "  + Si de esos tres primeros caracteres hay tres números (NNN) o dos números y una letra que no sea x (p.e. NNa), quiere decir que el fichero asociado contiene los códigos postales de poblaciones grandes, con más de un código postal. En este caso, la información aparece desglosada por todas las calles que tienen cada uno de los códigos postales, con lo que cada código postal aparece multitud de veces. Descartando la información de las calles, recopila todos los códigos postales distintos que haya en esos ficheros y asócialos a la ciudad y provincia corresondientes"
   ]
  },
  {
   "cell_type": "code",
   "execution_count": null,
   "metadata": {},
   "outputs": [],
   "source": []
  },
  {
   "cell_type": "markdown",
   "metadata": {},
   "source": [
    "**12. Acabas de comenzar a trabajar en el INE, y tu primera labor es recopilar la información que te proporcionan distintas autoridades locales para presentársela a tu jefe. La Agrupación de Municipios de España te ha proporcionado una lista de códigos postales y las poblaciones a las que pertenecen, aunque no te aseguran que esté actualizada y pueden faltar códigos postales. La Policía Nacional te ha proporcionado una lista de la cantidad de robos que se han producido en distintas poblaciones, asociados también a códigos postales. Si no se han producido robos, el código postal no aparece. La Guardia Civil te ha proporcionado una lista con la cantidad de incautaciones de drogas junto con el nombre de la población en el que se han producido. La Federación de Policías Municipales de España te ha enviado una lista con el número de infracciones que se han sancionado agrupadas también por poblaciones, y la Coordinadora de Cuerpos de Bomberos Nacional ha proporcionado el número de incendios sofocados, agrupados por código postal. Sabiendo que no todas las poblaciones y códigos postales tienen por qué aparecer en cada uno de los ficheros, escribe un programa que lea toda esta información, la agrupe de la manera más conveniente y la presente de manera ordenada.**  \n",
    "Antes de comenzar a resolver el ejercicio, puedes hacerte pequeños programas que te generen la información que necesitas para probar el ejercicio."
   ]
  },
  {
   "cell_type": "code",
   "execution_count": null,
   "metadata": {},
   "outputs": [],
   "source": []
  },
  {
   "cell_type": "markdown",
   "metadata": {},
   "source": [
    "**13. Nuestra ciudad cuenta con un sistema de semáforos equipados con radares que, cuando un coche se los salta en rojo, anotan la matrícula del coche, la fecha, la hora y el identificador del semáforo en el que se produjo la infracción. Escribe un programa que lea un fichero con esa información y la introduzca en un diccionario. Después debe leer una matrícula y devolver una lista de las infracciones cometidas por ese vehículo, ordenada por fecha y hora. A continuación, debe leer un identificador de semáforo y devolver todas las infracciones que ha registrado ordenadas por matrícula**  \n",
    "Al igual que en el ejercicio anterior, puedes escribir pequeños programas que te ayuden a generar los ficheros con la información que necesitas"
   ]
  },
  {
   "cell_type": "code",
   "execution_count": null,
   "metadata": {},
   "outputs": [],
   "source": []
  }
 ],
 "metadata": {
  "kernelspec": {
   "display_name": "Python 3",
   "language": "python",
   "name": "python3"
  },
  "language_info": {
   "codemirror_mode": {
    "name": "ipython",
    "version": 3
   },
   "file_extension": ".py",
   "mimetype": "text/x-python",
   "name": "python",
   "nbconvert_exporter": "python",
   "pygments_lexer": "ipython3",
   "version": "3.8.3"
  }
 },
 "nbformat": 4,
 "nbformat_minor": 4
}
